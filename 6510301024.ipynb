{
 "cells": [
  {
   "cell_type": "code",
   "execution_count": null,
   "metadata": {},
   "outputs": [],
   "source": [
    "import keras.api.models as mod\n",
    "import keras.api.layers as lay\n",
    "\n",
    "model = mod.Sequential()\n",
    "model.add(lay.SimpleRNN(units = 1,\n",
    "                        input_shape = (1,1),\n",
    "                        activation='relu'))\n",
    "\n",
    "model.summary()\n",
    "model.save(\"RNN.h5\")"
   ]
  },
  {
   "cell_type": "code",
   "execution_count": null,
   "metadata": {},
   "outputs": [],
   "source": [
    "import numpy as np\n",
    "import matplotlib.pyplot as plt\n",
    "\n",
    "pitch = 20\n",
    "step = 1\n",
    "N = 500\n",
    "n_train = int(N*0.7)\n",
    "\n",
    "def gen_data(x):\n",
    "  return (x%pitch)/pitch\n",
    "\n",
    "t = np.arange(1, N+1)\n",
    "#y = [gen_data(i) for i in t]\n",
    "y = np.sin(0.05*t*10) + 0.8 * np.random.rand(N)\n",
    "y = np.array(y)\n",
    "\n",
    "plt.figure()\n",
    "plt.plot(y)\n",
    "plt.show()"
   ]
  },
  {
   "cell_type": "code",
   "execution_count": null,
   "metadata": {},
   "outputs": [],
   "source": [
    "def convertToMatrix(data, step = 2):\n",
    "  X, Y = [], []\n",
    "  for i in range(len(data)-step):\n",
    "    d = i+step\n",
    "    X.append(data[i:d,])\n",
    "    Y.append(data[d])\n",
    "  return np.array(X), np.array(Y)\n",
    "\n",
    "train, test = y[0:n_train], y[n_train:N]\n",
    "x_train , y_train  = convertToMatrix(train, step)\n",
    "x_test, y_test = convertToMatrix(test, step)\n",
    "\n",
    "print(\"Dimension (Before)\", train.shape, test.shape) \n",
    "print(\"Dimension (After)\", x_train.shape, x_test.shape) "
   ]
  },
  {
   "cell_type": "code",
   "execution_count": null,
   "metadata": {},
   "outputs": [],
   "source": [
    "model = mod.Sequential()\n",
    "model.add(lay.SimpleRNN(\n",
    "    units = 32,\n",
    "    input_shape = (step,1 ),\n",
    "    activation='relu'\n",
    "))\n",
    "model.add(lay.Dense(units=1))\n",
    "\n",
    "model.compile(optimizer='adam', loss='mse', metrics=[\"accuracy\"])\n",
    "hist = model.fit(x_train , y_train, epochs=100, batch_size=1, verbose=1)\n",
    "predict = model.predict(x_test)\n",
    "\n",
    "plt.plot(hist.history['loss'])\n",
    "plt.show()"
   ]
  },
  {
   "cell_type": "code",
   "execution_count": null,
   "metadata": {},
   "outputs": [],
   "source": [
    "import matplotlib.pyplot as plt\n",
    "\n",
    "def plot_predictions(y_true, y_pred, title=\"Actual vs. Predicted\"):\n",
    "  plt.figure(figsize=(10, 6))\n",
    "  plt.plot(y_true, label='Original', color='blue')\n",
    "  plt.plot(y_pred, label='Predict', linestyle='--' ,color='red') # Changed 'lineStyles' to 'linestyle'\n",
    "  plt.title(title)\n",
    "  plt.xlabel('Time')\n",
    "  plt.ylabel('Value')\n",
    "  plt.legend()\n",
    "  plt.grid(True)\n",
    "  plt.show()\n",
    "\n",
    "# ตัวอย่างการใช้งาน\n",
    "# สมมติว่า y_test คือค่าจริง และ predictions คือค่าที่ทำนาย\n",
    "predictions = model.predict(x_test)\n",
    "plot_predictions(y_test, predictions, title=\"RNN\")"
   ]
  }
 ],
 "metadata": {
  "language_info": {
   "name": "python"
  }
 },
 "nbformat": 4,
 "nbformat_minor": 2
}
